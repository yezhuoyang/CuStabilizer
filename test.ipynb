{
 "cells": [
  {
   "cell_type": "code",
   "execution_count": 1,
   "id": "e4c8aae6",
   "metadata": {},
   "outputs": [],
   "source": [
    "import numpy as np"
   ]
  },
  {
   "cell_type": "code",
   "execution_count": 2,
   "id": "145472d7",
   "metadata": {},
   "outputs": [],
   "source": [
    "num_qubit=3"
   ]
  },
  {
   "cell_type": "code",
   "execution_count": 3,
   "id": "c033ba3a",
   "metadata": {},
   "outputs": [],
   "source": [
    "tableau = np.zeros((2*num_qubit, 2*num_qubit+1), dtype=int) "
   ]
  },
  {
   "cell_type": "code",
   "execution_count": 4,
   "id": "f11b28dc",
   "metadata": {},
   "outputs": [
    {
     "data": {
      "text/plain": [
       "array([[0, 0, 0, 0, 0, 0, 0],\n",
       "       [0, 0, 0, 0, 0, 0, 0],\n",
       "       [0, 0, 0, 0, 0, 0, 0],\n",
       "       [0, 0, 0, 0, 0, 0, 0],\n",
       "       [0, 0, 0, 0, 0, 0, 0],\n",
       "       [0, 0, 0, 0, 0, 0, 0]])"
      ]
     },
     "execution_count": 4,
     "metadata": {},
     "output_type": "execute_result"
    }
   ],
   "source": [
    "tableau"
   ]
  },
  {
   "cell_type": "code",
   "execution_count": 5,
   "id": "1e9afcb7",
   "metadata": {},
   "outputs": [
    {
     "name": "stdout",
     "output_type": "stream",
     "text": [
      "[[1. 0. 0. 0. 0. 0. 0.]\n",
      " [0. 1. 0. 0. 0. 0. 0.]\n",
      " [0. 0. 1. 0. 0. 0. 0.]\n",
      " [0. 0. 0. 1. 0. 0. 0.]\n",
      " [0. 0. 0. 0. 1. 0. 0.]\n",
      " [0. 0. 0. 0. 0. 1. 0.]]\n"
     ]
    }
   ],
   "source": [
    "import numpy as np\n",
    "\n",
    "# Dimensions\n",
    "n = 3  # Example size\n",
    "rows, cols = 2 * n, 2 * n + 1\n",
    "\n",
    "# Create an array of the specified shape\n",
    "A = np.zeros((rows, cols))\n",
    "\n",
    "# Create indices for the diagonal\n",
    "diagonal_indices = np.arange(min(rows, cols))\n",
    "\n",
    "# Set the diagonal elements to 1\n",
    "A[diagonal_indices, diagonal_indices] = 1\n",
    "\n",
    "print(A)"
   ]
  },
  {
   "cell_type": "code",
   "execution_count": 6,
   "id": "6f6a8223",
   "metadata": {},
   "outputs": [
    {
     "data": {
      "text/plain": [
       "array([0, 1, 2, 3, 4, 5])"
      ]
     },
     "execution_count": 6,
     "metadata": {},
     "output_type": "execute_result"
    }
   ],
   "source": [
    "diagonal_indices"
   ]
  },
  {
   "cell_type": "code",
   "execution_count": null,
   "id": "f1284877",
   "metadata": {},
   "outputs": [],
   "source": []
  }
 ],
 "metadata": {
  "kernelspec": {
   "display_name": "Python 3 (ipykernel)",
   "language": "python",
   "name": "python3"
  },
  "language_info": {
   "codemirror_mode": {
    "name": "ipython",
    "version": 3
   },
   "file_extension": ".py",
   "mimetype": "text/x-python",
   "name": "python",
   "nbconvert_exporter": "python",
   "pygments_lexer": "ipython3",
   "version": "3.9.15"
  }
 },
 "nbformat": 4,
 "nbformat_minor": 5
}
